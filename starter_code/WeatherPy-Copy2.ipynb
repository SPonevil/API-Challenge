{
 "cells": [
  {
   "cell_type": "markdown",
   "metadata": {},
   "source": [
    "# WeatherPy\n",
    "----\n",
    "\n",
    "### Analysis\n",
    "* As expected, the weather becomes significantly warmer as one approaches the equator (0 Deg. Latitude). More interestingly, however, is the fact that the southern hemisphere tends to be warmer this time of year than the northern hemisphere. This may be due to the tilt of the earth.\n",
    "* There is no strong relationship between latitude and cloudiness. However, it is interesting to see that a strong band of cities sits at 0, 80, and 100% cloudiness.\n",
    "* There is no strong relationship between latitude and wind speed. However, in northern hemispheres there is a flurry of cities with over 20 mph of wind.\n",
    "\n",
    "---\n",
    "\n",
    "#### Note\n",
    "* Instructions have been included for each segment. You do not have to follow them exactly, but they are included to help you think through the steps."
   ]
  },
  {
   "cell_type": "code",
   "execution_count": 1,
   "metadata": {
    "scrolled": true
   },
   "outputs": [],
   "source": [
    "# Dependencies and Setup\n",
    "import matplotlib.pyplot as plt\n",
    "import pandas as pd\n",
    "import numpy as np\n",
    "import requests\n",
    "import time\n",
    "\n",
    "# Import API key\n",
    "from api_keys import api_key\n",
    "\n",
    "# Incorporated citipy to determine city based on latitude and longitude\n",
    "from citipy import citipy\n",
    "\n",
    "# Output File (CSV)\n",
    "output_data_file = \"output_data/cities.csv\"\n",
    "\n",
    "# Range of latitudes and longitudes\n",
    "lat_range = (-90, 90)\n",
    "lng_range = (-180, 180)"
   ]
  },
  {
   "cell_type": "markdown",
   "metadata": {},
   "source": [
    "## Generate Cities List"
   ]
  },
  {
   "cell_type": "code",
   "execution_count": 2,
   "metadata": {},
   "outputs": [
    {
     "data": {
      "text/plain": [
       "630"
      ]
     },
     "execution_count": 2,
     "metadata": {},
     "output_type": "execute_result"
    }
   ],
   "source": [
    "# List for holding lat_lngs and cities\n",
    "lat_lngs = []\n",
    "cities = []\n",
    "\n",
    "# Create a set of random lat and lng combinations\n",
    "lats = np.random.uniform(low=-90.000, high=90.000, size=1500)\n",
    "lngs = np.random.uniform(low=-180.000, high=180.000, size=1500)\n",
    "lat_lngs = zip(lats, lngs)\n",
    "\n",
    "# Identify nearest city for each lat, lng combination\n",
    "for lat_lng in lat_lngs:\n",
    "    city = citipy.nearest_city(lat_lng[0], lat_lng[1]).city_name\n",
    "    \n",
    "    # If the city is unique, then add it to a our cities list\n",
    "    if city not in cities:\n",
    "        cities.append(city)\n",
    "\n",
    "# Print the city count to confirm sufficient count\n",
    "len(cities)"
   ]
  },
  {
   "cell_type": "markdown",
   "metadata": {},
   "source": [
    "### Perform API Calls\n",
    "* Perform a weather check on each city using a series of successive API calls.\n",
    "* Include a print log of each city as it'sbeing processed (with the city number and city name).\n"
   ]
  },
  {
   "cell_type": "code",
   "execution_count": 3,
   "metadata": {},
   "outputs": [
    {
     "data": {
      "text/html": [
       "<div>\n",
       "<style scoped>\n",
       "    .dataframe tbody tr th:only-of-type {\n",
       "        vertical-align: middle;\n",
       "    }\n",
       "\n",
       "    .dataframe tbody tr th {\n",
       "        vertical-align: top;\n",
       "    }\n",
       "\n",
       "    .dataframe thead th {\n",
       "        text-align: right;\n",
       "    }\n",
       "</style>\n",
       "<table border=\"1\" class=\"dataframe\">\n",
       "  <thead>\n",
       "    <tr style=\"text-align: right;\">\n",
       "      <th></th>\n",
       "      <th>Cities</th>\n",
       "    </tr>\n",
       "  </thead>\n",
       "  <tbody>\n",
       "    <tr>\n",
       "      <th>0</th>\n",
       "      <td>tucuma</td>\n",
       "    </tr>\n",
       "    <tr>\n",
       "      <th>1</th>\n",
       "      <td>georgetown</td>\n",
       "    </tr>\n",
       "    <tr>\n",
       "      <th>2</th>\n",
       "      <td>ushuaia</td>\n",
       "    </tr>\n",
       "    <tr>\n",
       "      <th>3</th>\n",
       "      <td>necochea</td>\n",
       "    </tr>\n",
       "    <tr>\n",
       "      <th>4</th>\n",
       "      <td>bluff</td>\n",
       "    </tr>\n",
       "  </tbody>\n",
       "</table>\n",
       "</div>"
      ],
      "text/plain": [
       "       Cities\n",
       "0      tucuma\n",
       "1  georgetown\n",
       "2     ushuaia\n",
       "3    necochea\n",
       "4       bluff"
      ]
     },
     "execution_count": 3,
     "metadata": {},
     "output_type": "execute_result"
    }
   ],
   "source": [
    "cities_df = pd.DataFrame({'Cities': cities})\n",
    "cities_df.head(5)"
   ]
  },
  {
   "cell_type": "code",
   "execution_count": 4,
   "metadata": {
    "scrolled": true
   },
   "outputs": [],
   "source": [
    "# api_key = api_keys.py\n",
    "url = \"http://api.openweathermap.org/data/2.5/weather?\"\n",
    "units = \"metric\"\n",
    "query_url = f\"{url}appid={api_key}&units={units}&q=\""
   ]
  },
  {
   "cell_type": "code",
   "execution_count": 5,
   "metadata": {
    "scrolled": true
   },
   "outputs": [
    {
     "name": "stdout",
     "output_type": "stream",
     "text": [
      "Beginning Data Retrieval\n",
      "---------------------------\n",
      "City not found. Skipping...\n",
      "Processing City Number 1 | Georgetown\n",
      "Processing City Number 2 | Ushuaia\n",
      "Processing City Number 3 | Necochea\n",
      "Processing City Number 4 | Bluff\n",
      "Processing City Number 5 | Vaini\n",
      "Processing City Number 6 | Pochutla\n",
      "Processing City Number 7 | Rikitea\n",
      "Processing City Number 8 | Sao Filipe\n",
      "Processing City Number 9 | Busselton\n",
      "Processing City Number 10 | Seminole\n",
      "Processing City Number 11 | Codrington\n",
      "City not found. Skipping...\n",
      "Processing City Number 12 | Den Helder\n",
      "Processing City Number 13 | Cape Town\n",
      "Processing City Number 14 | Palmer\n",
      "Processing City Number 15 | Kodiak\n",
      "Processing City Number 16 | Laguna\n",
      "Processing City Number 17 | Hobart\n",
      "City not found. Skipping...\n",
      "Processing City Number 18 | Tamandare\n",
      "Processing City Number 19 | Dikson\n",
      "Processing City Number 20 | Saint-Philippe\n",
      "Processing City Number 21 | Victoria\n",
      "City not found. Skipping...\n",
      "Processing City Number 22 | Bredasdorp\n",
      "Processing City Number 23 | Kralendijk\n",
      "City not found. Skipping...\n",
      "Processing City Number 24 | Port Elizabeth\n",
      "Processing City Number 25 | Atuona\n",
      "Processing City Number 26 | Hithadhoo\n",
      "Processing City Number 27 | Champerico\n",
      "City not found. Skipping...\n",
      "Processing City Number 28 | Albany\n",
      "Processing City Number 29 | Faanui\n",
      "Processing City Number 30 | Qasigiannguit\n",
      "Processing City Number 31 | Tema\n",
      "Processing City Number 32 | Jamestown\n",
      "Processing City Number 33 | Lelystad\n",
      "City not found. Skipping...\n",
      "Processing City Number 34 | Kapaa\n",
      "Processing City Number 35 | Yantzaza\n",
      "Processing City Number 36 | Hermanus\n",
      "Processing City Number 37 | Punta Arenas\n",
      "City not found. Skipping...\n",
      "Processing City Number 38 | Levin\n",
      "Processing City Number 39 | Akdepe\n",
      "City not found. Skipping...\n",
      "Processing City Number 40 | Leiva\n",
      "Processing City Number 41 | Carnarvon\n",
      "Processing City Number 42 | Tiksi\n"
     ]
    }
   ],
   "source": [
    "base_url = \"https://api.openweathermap.org/data/2.5/weather?\"\n",
    "\n",
    "\n",
    "#Printing log of city number and city name\n",
    "print(\"Beginning Data Retrieval\")\n",
    "print(\"---------------------------\")\n",
    "\n",
    "city_number = 1\n",
    "count=0\n",
    "for index, row in cities_df.iterrows():\n",
    "    #get city from dataframe\n",
    "    cities = row[\"Cities\"]\n",
    "#     #use this to stop at 50, data was taking to long to load.\n",
    "#     if count > 50:\n",
    "#         break\n",
    "#     count+=1\n",
    "    \n",
    "    # assemble url and make API request\n",
    "    \n",
    "    query_url = base_url + \"&q=\" + cities + \"&APPID=\" + api_key + \"&units=imperial\"\n",
    "    \n",
    "\n",
    "    try:\n",
    "        response = requests.get(query_url).json()\n",
    "        cities_df.loc[index,\"Cloudiness\"] = response[\"clouds\"][\"all\"]\n",
    "        cities_df.loc[index,\"Country\"] = response[\"sys\"][\"country\"]\n",
    "        cities_df.loc[index,\"Date\"] = response[\"dt\"]\n",
    "        cities_df.loc[index,\"Humidity\"] = response[\"main\"][\"humidity\"]\n",
    "        cities_df.loc[index,\"Latitude\"] = response[\"coord\"][\"lat\"]\n",
    "        cities_df.loc[index,\"Longitude\"] = response[\"coord\"][\"lon\"]\n",
    "        cities_df.loc[index,\"Max Temp\"] = response[\"main\"][\"temp_max\"]\n",
    "        cities_df.loc[index,\"Windspeed\"] = response[\"wind\"][\"speed\"]\n",
    "        \n",
    "        city_name = response[\"name\"]\n",
    "        print(f\"Processing City Number {city_number} | {city_name}\")\n",
    "        \n",
    "        city_number+=1\n",
    "        \n",
    "        # Adding sleep method in the loop to not over exceed rate limit of API\n",
    "        time.sleep(1)\n",
    "    \n",
    "    except(KeyError, IndexError):\n",
    "        print(\"City not found. Skipping...\")"
   ]
  },
  {
   "cell_type": "code",
   "execution_count": 6,
   "metadata": {
    "scrolled": true
   },
   "outputs": [
    {
     "data": {
      "text/plain": [
       "Cities        630\n",
       "Cloudiness     42\n",
       "Country        42\n",
       "Date           42\n",
       "Humidity       42\n",
       "Latitude       42\n",
       "Longitude      42\n",
       "Max Temp       42\n",
       "Windspeed      42\n",
       "dtype: int64"
      ]
     },
     "execution_count": 6,
     "metadata": {},
     "output_type": "execute_result"
    }
   ],
   "source": [
    "cities_df.count()"
   ]
  },
  {
   "cell_type": "code",
   "execution_count": null,
   "metadata": {},
   "outputs": [],
   "source": []
  },
  {
   "cell_type": "markdown",
   "metadata": {},
   "source": [
    "### Convert Raw Data to DataFrame\n",
    "* Export the city data into a .csv.\n",
    "* Display the DataFrame"
   ]
  },
  {
   "cell_type": "code",
   "execution_count": 28,
   "metadata": {
    "scrolled": true
   },
   "outputs": [],
   "source": [
    "# Export city data to CSV\n",
    "# cities_df.to_csv('output_data/city_data.csv')\n",
    "#     cities_df.loc[index,\"Cloudiness\"] = response[\"clouds\"][\"all\"]\n",
    "#         cities_df.loc[index,\"Country\"] = response[\"sys\"][\"country\"]\n",
    "#         cities_df.loc[index,\"Date\"] = response[\"dt\"]\n",
    "#         cities_df.loc[index,\"Humidity\"] = response[\"main\"][\"humidity\"]\n",
    "#         cities_df.loc[index,\"Latitude\"] = response[\"coord\"][\"lat\"]\n",
    "#         cities_df.loc[index,\"Longitude\"] = response[\"coord\"][\"lon\"]\n",
    "#         cities_df.loc[index,\"Max Temp\"] = response[\"main\"][\"temp_max\"]\n",
    "#         cities_df.loc[index,\"Windspeed\"] = response[\"wind\"][\"speed\"]\n",
    "        "
   ]
  },
  {
   "cell_type": "code",
   "execution_count": 14,
   "metadata": {},
   "outputs": [
    {
     "data": {
      "text/html": [
       "<div>\n",
       "<style scoped>\n",
       "    .dataframe tbody tr th:only-of-type {\n",
       "        vertical-align: middle;\n",
       "    }\n",
       "\n",
       "    .dataframe tbody tr th {\n",
       "        vertical-align: top;\n",
       "    }\n",
       "\n",
       "    .dataframe thead th {\n",
       "        text-align: right;\n",
       "    }\n",
       "</style>\n",
       "<table border=\"1\" class=\"dataframe\">\n",
       "  <thead>\n",
       "    <tr style=\"text-align: right;\">\n",
       "      <th></th>\n",
       "      <th>Cities</th>\n",
       "      <th>Cloudiness</th>\n",
       "      <th>Country</th>\n",
       "      <th>Date</th>\n",
       "      <th>Humidity</th>\n",
       "      <th>Latitude</th>\n",
       "      <th>Longitude</th>\n",
       "      <th>Max Temp</th>\n",
       "      <th>Windspeed</th>\n",
       "    </tr>\n",
       "  </thead>\n",
       "  <tbody>\n",
       "    <tr>\n",
       "      <th>0</th>\n",
       "      <td>tucuma</td>\n",
       "      <td>NaN</td>\n",
       "      <td>NaN</td>\n",
       "      <td>NaN</td>\n",
       "      <td>NaN</td>\n",
       "      <td>NaN</td>\n",
       "      <td>NaN</td>\n",
       "      <td>NaN</td>\n",
       "      <td>NaN</td>\n",
       "    </tr>\n",
       "    <tr>\n",
       "      <th>1</th>\n",
       "      <td>georgetown</td>\n",
       "      <td>86.0</td>\n",
       "      <td>GY</td>\n",
       "      <td>1.572400e+09</td>\n",
       "      <td>88.0</td>\n",
       "      <td>6.80</td>\n",
       "      <td>-58.16</td>\n",
       "      <td>80.60</td>\n",
       "      <td>6.93</td>\n",
       "    </tr>\n",
       "    <tr>\n",
       "      <th>2</th>\n",
       "      <td>ushuaia</td>\n",
       "      <td>100.0</td>\n",
       "      <td>AR</td>\n",
       "      <td>1.572400e+09</td>\n",
       "      <td>39.0</td>\n",
       "      <td>-54.81</td>\n",
       "      <td>-68.31</td>\n",
       "      <td>46.40</td>\n",
       "      <td>4.32</td>\n",
       "    </tr>\n",
       "    <tr>\n",
       "      <th>3</th>\n",
       "      <td>necochea</td>\n",
       "      <td>68.0</td>\n",
       "      <td>AR</td>\n",
       "      <td>1.572400e+09</td>\n",
       "      <td>91.0</td>\n",
       "      <td>-38.55</td>\n",
       "      <td>-58.74</td>\n",
       "      <td>55.99</td>\n",
       "      <td>1.99</td>\n",
       "    </tr>\n",
       "    <tr>\n",
       "      <th>4</th>\n",
       "      <td>bluff</td>\n",
       "      <td>68.0</td>\n",
       "      <td>AU</td>\n",
       "      <td>1.572400e+09</td>\n",
       "      <td>39.0</td>\n",
       "      <td>-23.58</td>\n",
       "      <td>149.07</td>\n",
       "      <td>84.67</td>\n",
       "      <td>17.60</td>\n",
       "    </tr>\n",
       "  </tbody>\n",
       "</table>\n",
       "</div>"
      ],
      "text/plain": [
       "       Cities  Cloudiness Country          Date  Humidity  Latitude  \\\n",
       "0      tucuma         NaN     NaN           NaN       NaN       NaN   \n",
       "1  georgetown        86.0      GY  1.572400e+09      88.0      6.80   \n",
       "2     ushuaia       100.0      AR  1.572400e+09      39.0    -54.81   \n",
       "3    necochea        68.0      AR  1.572400e+09      91.0    -38.55   \n",
       "4       bluff        68.0      AU  1.572400e+09      39.0    -23.58   \n",
       "\n",
       "   Longitude  Max Temp  Windspeed  \n",
       "0        NaN       NaN        NaN  \n",
       "1     -58.16     80.60       6.93  \n",
       "2     -68.31     46.40       4.32  \n",
       "3     -58.74     55.99       1.99  \n",
       "4     149.07     84.67      17.60  "
      ]
     },
     "execution_count": 14,
     "metadata": {},
     "output_type": "execute_result"
    }
   ],
   "source": [
    "# cities_df = pd.DataFrame({'city_name': city_name, 'latitude': latitude,'latitude': latitude,'temperature': temperature, 'humidity': humidity, 'cloudiness': cloudiness,'windspeed':windspeed})\n",
    "cities_df.head()"
   ]
  },
  {
   "cell_type": "code",
   "execution_count": 13,
   "metadata": {
    "scrolled": true
   },
   "outputs": [],
   "source": [
    "cities_df.dropna()\n",
    "new_citiesdf = cities_df.dropna()"
   ]
  },
  {
   "cell_type": "markdown",
   "metadata": {},
   "source": [
    "### Plotting the Data\n",
    "* Use proper labeling of the plots using plot titles (including date of analysis) and axes labels.\n",
    "* Save the plotted figures as .pngs."
   ]
  },
  {
   "cell_type": "markdown",
   "metadata": {},
   "source": [
    "#### Latitude vs. Temperature Plot"
   ]
  },
  {
   "cell_type": "code",
   "execution_count": 16,
   "metadata": {
    "scrolled": true
   },
   "outputs": [
    {
     "data": {
      "image/png": "[encoded data removed]",
      "text/plain": [
       "<Figure size 432x288 with 1 Axes>"
      ]
     },
     "metadata": {
      "needs_background": "light"
     },
     "output_type": "display_data"
    }
   ],
   "source": [
    "ltd = new_citiesdf[\"Latitude\"]\n",
    "mtemp = new_citiesdf[\"Max Temp\"]\n",
    "plt.scatter(ltd,\n",
    "            mtemp,\n",
    "            edgecolor=\"black\", linewidths=1, marker=\"o\",\n",
    "            alpha=0.8, label=\"Cities\")\n",
    "plt.show()"
   ]
  },
  {
   "cell_type": "markdown",
   "metadata": {},
   "source": [
    "#### Latitude vs. Humidity Plot"
   ]
  },
  {
   "cell_type": "code",
   "execution_count": 18,
   "metadata": {},
   "outputs": [
    {
     "data": {
      "text/plain": [
       "<function matplotlib.pyplot.show(*args, **kw)>"
      ]
     },
     "execution_count": 18,
     "metadata": {},
     "output_type": "execute_result"
    },
    {
     "data": {
      "image/png": "[encoded data removed]",
      "text/plain": [
       "<Figure size 432x288 with 1 Axes>"
      ]
     },
     "metadata": {
      "needs_background": "light"
     },
     "output_type": "display_data"
    }
   ],
   "source": [
    "ltd = new_citiesdf[\"Latitude\"]\n",
    "hum = new_citiesdf[\"Humidity\"]\n",
    "plt.scatter(ltd,\n",
    "            hum,\n",
    "            edgecolor=\"black\", linewidths=1, marker=\"o\",\n",
    "            alpha=0.8, label=\"Cities\")\n",
    "plt.show\n"
   ]
  },
  {
   "cell_type": "markdown",
   "metadata": {},
   "source": [
    "#### Latitude vs. Cloudiness Plot"
   ]
  },
  {
   "cell_type": "code",
   "execution_count": 19,
   "metadata": {},
   "outputs": [
    {
     "data": {
      "text/plain": [
       "<function matplotlib.pyplot.show(*args, **kw)>"
      ]
     },
     "execution_count": 19,
     "metadata": {},
     "output_type": "execute_result"
    },
    {
     "data": {
      "image/png": "[encoded data removed]",
      "text/plain": [
       "<Figure size 432x288 with 1 Axes>"
      ]
     },
     "metadata": {
      "needs_background": "light"
     },
     "output_type": "display_data"
    }
   ],
   "source": [
    "ltd = new_citiesdf[\"Latitude\"]\n",
    "cld = new_citiesdf[\"Cloudiness\"]\n",
    "plt.scatter(ltd,\n",
    "            cld,\n",
    "            edgecolor=\"black\", linewidths=1, marker=\"o\",\n",
    "            alpha=0.8, label=\"Cities\")\n",
    "plt.show"
   ]
  },
  {
   "cell_type": "markdown",
   "metadata": {},
   "source": [
    "#### Latitude vs. Wind Speed Plot"
   ]
  },
  {
   "cell_type": "code",
   "execution_count": 20,
   "metadata": {},
   "outputs": [
    {
     "data": {
      "text/plain": [
       "<function matplotlib.pyplot.show(*args, **kw)>"
      ]
     },
     "execution_count": 20,
     "metadata": {},
     "output_type": "execute_result"
    },
    {
     "data": {
      "image/png": "[encoded data removed]",
      "text/plain": [
       "<Figure size 432x288 with 1 Axes>"
      ]
     },
     "metadata": {
      "needs_background": "light"
     },
     "output_type": "display_data"
    }
   ],
   "source": [
    "ltd = new_citiesdf[\"Latitude\"]\n",
    "ws = new_citiesdf[\"Windspeed\"]\n",
    "plt.scatter(ltd,\n",
    "            ws,\n",
    "            edgecolor=\"black\", linewidths=1, marker=\"o\",\n",
    "            alpha=0.8, label=\"Cities\")\n",
    "plt.show"
   ]
  },
  {
   "cell_type": "code",
   "execution_count": null,
   "metadata": {},
   "outputs": [],
   "source": []
  }
 ],
 "metadata": {
  "anaconda-cloud": {},
  "kernel_info": {
   "name": "python3"
  },
  "kernelspec": {
   "display_name": "Python 3",
   "language": "python",
   "name": "python3"
  },
  "language_info": {
   "codemirror_mode": {
    "name": "ipython",
    "version": 3
   },
   "file_extension": ".py",
   "mimetype": "text/x-python",
   "name": "python",
   "nbconvert_exporter": "python",
   "pygments_lexer": "ipython3",
   "version": "3.7.1"
  },
  "nteract": {
   "version": "0.12.3"
  }
 },
 "nbformat": 4,
 "nbformat_minor": 2
}
